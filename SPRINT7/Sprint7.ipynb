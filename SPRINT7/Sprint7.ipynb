{
 "cells": [
  {
   "cell_type": "markdown",
   "metadata": {},
   "source": [
    "# Nivell 1"
   ]
  },
  {
   "cell_type": "code",
   "execution_count": null,
   "metadata": {},
   "outputs": [],
   "source": [
    "import re"
   ]
  },
  {
   "cell_type": "markdown",
   "metadata": {},
   "source": [
    "### Exercici 1\n",
    "Calculadora de l'índex de massa corporal"
   ]
  },
  {
   "cell_type": "code",
   "execution_count": 499,
   "metadata": {},
   "outputs": [],
   "source": [
    "#Para calcular el numero de IMC que la formula es peso*altura al quadradro.\n",
    "def calculadoraImc(pesodef, alturadef):\n",
    "    return round(pesodef / alturadef ** 2, 2)\n",
    "\n",
    "#Sabiendo el IMC con un if comparo y dependiendo del valor el return sera el estado en el que esta.\n",
    "def imcDefinicion(imcdef):\n",
    "    if imcdef > 30:\n",
    "        return \"Obesidad\"\n",
    "    elif imcdef <= 29.9 and imcdef >= 25: \n",
    "        return \"Sobrepeso\"\n",
    "    elif imcdef <= 24.9 and imcdef >=18.5:\n",
    "        return \"Peso normal\"\n",
    "    else:\n",
    "        return \"Bajo Peso\""
   ]
  },
  {
   "cell_type": "code",
   "execution_count": null,
   "metadata": {},
   "outputs": [
    {
     "name": "stdout",
     "output_type": "stream",
     "text": [
      "IMC -> 24.69, Peso normal\n"
     ]
    }
   ],
   "source": [
    "peso = float(input(\"Que peso tienes en KG (Ej.80)?\"))\n",
    "altura = (input(\"Que altura tienes en metros (Ej. 1.90)\"))\n",
    "\n",
    "\n",
    "\n",
    "imcPersona = calculadoraImc(peso,altura)\n",
    "imcPersonaStatus = imcDefinicion(imcPersona)\n",
    "\n",
    "print(f\"IMC -> {imcPersona}, {imcPersonaStatus}\")"
   ]
  },
  {
   "cell_type": "markdown",
   "metadata": {},
   "source": [
    "### Exercici 2\n",
    "Convertidor de temperatures."
   ]
  },
  {
   "cell_type": "code",
   "execution_count": null,
   "metadata": {},
   "outputs": [],
   "source": [
    "#Dependidiendo de la unidad de temperatura que se ha escoguido se deuelve el valor en Celsius\n",
    "def conversorTemperaturaCelsius(unidadTemperaturaCdef, temperaturaCel):\n",
    "    # Fahrenheit -> Celsius\n",
    "    if unidadTemperaturaCdef == 2:\n",
    "            return round((temperaturaCel - 32 / 1.8),2)\n",
    "    # Kelvin -> Celsius\n",
    "    elif unidadTemperaturaCdef == 3:\n",
    "            return temperaturaCel - 273.15\n",
    "    # Rankine -> Celsius\n",
    "    elif unidadTemperaturaCdef == 4:\n",
    "            return round(((temperaturaCel-491.67) * 5/9),2)\n",
    "    # Reaumur -> Celsius\n",
    "    elif unidadTemperaturaCdef == 5:\n",
    "            return round((temperaturaCel * 5/4),2)\n",
    "    else:\n",
    "        return \"Unidad de Temperatura no Valida\"\n",
    "\n",
    "#Dependidiendo de la unidad de temperatura que se ha escoguido se deuelve el valor en Fahrenheit\n",
    "def conversorTemperaturaFahrenheit(unidadTemperaturaFdef, temperaturaFah):\n",
    "    # Celsius -> Fahrenheit\n",
    "    if unidadTemperaturaFdef == 1:\n",
    "            return round(((temperaturaFah * 9/5) + 32),2)\n",
    "    # kelvin -> Fahrenheit\n",
    "    elif unidadTemperaturaFdef == 3:\n",
    "            return round((temperaturaFah - 273.15 * 9/5 + 32),2) \n",
    "    # Rankine -> Fahrenheit\n",
    "    elif unidadTemperaturaFdef == 4:\n",
    "            return temperaturaFah - 459.67\n",
    "    # Reaumur -> Fahrenheit\n",
    "    elif unidadTemperaturaFdef == 5:\n",
    "            return round(((temperaturaFah * 9/4) + 32),2)\n",
    "    else:\n",
    "        return \"Unidad de Temperatura no Valida\""
   ]
  },
  {
   "cell_type": "code",
   "execution_count": 505,
   "metadata": {},
   "outputs": [
    {
     "name": "stdout",
     "output_type": "stream",
     "text": [
      "9.8 Kelvin(K) son -263.34999999999997 Celsius(°C)\n",
      "9.8 Kelvin(K) son -449.87 Fahrenheit(°F)\n"
     ]
    }
   ],
   "source": [
    "listaTiposTemperatura = [\"1.°C\", \"2.°F\", \"3.K\", \"4.°Ra\", \"5.°Re\"]\n",
    "unidadTempUser = int(input(f\"Que unidad de temperatura vas a utilizar? Escoge el numero {listaTiposTemperatura}\"))\n",
    "numTemperatura = float(input(\"Que temperatura quieres Convertir(Ej. 9.8)\"))\n",
    "\n",
    "#Con el IF se mira la unidad que ha pasado el usuario y luego se hace los calculos siempre se convierte a Celsius y Fahrenheit\n",
    "#Si la unidad es Celsius y Fahrenheit entonces se devuelve Kelvin\n",
    "if unidadTempUser == 1:\n",
    "    #°F\n",
    "    celsiusFahrenheit = round(((numTemperatura * 9/5) + 32),2)\n",
    "    print(f\"{numTemperatura} Celsius(°C) son {conversorTemperaturaFahrenheit(unidadTempUser,numTemperatura)}  Fahrenheit(°F)\")\n",
    "    #K\n",
    "    celsiuskelvin = numTemperatura + 273.15\n",
    "    print(f\"{numTemperatura} Celsius(°C) son {celsiuskelvin} Kelvin(K)\")\n",
    "\n",
    "elif unidadTempUser == 2: \n",
    "    #°C\n",
    "    fahrenheitCelsius = round((numTemperatura - 32 / 1.8),2)\n",
    "    print(f\"{numTemperatura} Fahrenheit(°F) son {conversorTemperaturaCelsius(unidadTempUser,numTemperatura)} Celsius(°C)\")   \n",
    "    #K\n",
    "    fahrenheitKelvin = round(fahrenheitCelsius + 273.25,2)\n",
    "    print(f\"{numTemperatura} Fahrenheit(°F) son {fahrenheitKelvin} Kelvin(K)\")  \n",
    "\n",
    "elif unidadTempUser == 3: \n",
    "    #°C\n",
    "    kelvinCelsius = numTemperatura - 273.15\n",
    "    print(f\"{numTemperatura} Kelvin(K) son {conversorTemperaturaCelsius(unidadTempUser,numTemperatura)} Celsius(°C)\")   \n",
    "    #°F\n",
    "    kelvinFahrenheit = round((kelvinCelsius * 9/5 + 32),2)\n",
    "    print(f\"{numTemperatura} Kelvin(K) son {conversorTemperaturaFahrenheit(unidadTempUser,numTemperatura)} Fahrenheit(°F)\")   \n",
    "\n",
    "elif unidadTempUser == 4: \n",
    "    #°C\n",
    "    rankineCelsius =  round(((numTemperatura-491.67) * 5/9),2)\n",
    "    print(f\"{numTemperatura} Rankine (°Ra) son {conversorTemperaturaCelsius(unidadTempUser,numTemperatura)} Celsius(°C)\")   \n",
    "    #°F\n",
    "    rankineFahrenheit = round(numTemperatura - 459.67,2)\n",
    "    print(f\"{numTemperatura} Rankine (°Ra) son {conversorTemperaturaFahrenheit(unidadTempUser,numTemperatura)} Fahrenheit(°F)\")  \n",
    "\n",
    "elif unidadTempUser == 5:\n",
    "    #°C\n",
    "    reaumurCelsius = round((numTemperatura * 5/4),2)\n",
    "    print(f\"{numTemperatura} Réaumur (°Re) son {conversorTemperaturaCelsius(unidadTempUser,numTemperatura)} Celsius(°C)\")   \n",
    "    #°F\n",
    "    reaumurFahrenheit = round(((numTemperatura * 9/4) + 32),2)\n",
    "    print(f\"{numTemperatura} Réaumur (°Re) son {conversorTemperaturaFahrenheit(unidadTempUser,numTemperatura)} Fahrenheit(°F)\")  \n",
    "    \n",
    "else:\n",
    "    print(\"La unidad ee temperatura no es valida\")\n"
   ]
  },
  {
   "cell_type": "markdown",
   "metadata": {},
   "source": [
    "### Exercici 3\n",
    "Comptador de paraules d'un text."
   ]
  },
  {
   "cell_type": "code",
   "execution_count": null,
   "metadata": {},
   "outputs": [],
   "source": [
    "#Se recorre la el texto y vamos compararando si la palabra ya esta en el diccionario, si esta se suma 1, sino esta se añad \n",
    "def comptadorParaules(llistaText):\n",
    "    diccContado = {}\n",
    "    listaPalabras = llistaText.split()\n",
    "    for palabraTexto in listaPalabras:\n",
    "        if palabraTexto in diccContado:\n",
    "            diccContado[palabraTexto] += 1 \n",
    "        else:\n",
    "            diccContado[palabraTexto] = 1\n",
    "\n",
    "    return diccContado"
   ]
  },
  {
   "cell_type": "code",
   "execution_count": null,
   "metadata": {},
   "outputs": [
    {
     "name": "stdout",
     "output_type": "stream",
     "text": [
      "{'hola': 2, 'bueans': 1}\n"
     ]
    }
   ],
   "source": [
    "textUser = input(\"Vamos a contar palabras, dame un texto\")\n",
    "\n",
    "print(comptadorParaules(textUser))\n"
   ]
  },
  {
   "cell_type": "markdown",
   "metadata": {},
   "source": [
    "### Exercici 4\n",
    "Diccionari invers."
   ]
  },
  {
   "cell_type": "code",
   "execution_count": null,
   "metadata": {},
   "outputs": [],
   "source": [
    "#Se crea un diccionario nuevo, Se recorre el diccionarioNoInvertido y el valor de cada key se añade al nuevo diccionario, y el value se pone como key\n",
    "#Antes de añadir el valor se revisa que ya no esta, si esta da error \n",
    "def invertDiccionario(diccNoInvertido):\n",
    "    diccionarioInvertido = {}\n",
    "\n",
    "    for palabra in diccNoInvertido:\n",
    "        if diccNoInvertido[palabra] in diccionarioInvertido:\n",
    "            diccionarioInvertido = \"Error: multiple keys for one value\"\n",
    "            break\n",
    "        else:\n",
    "            diccionarioInvertido[diccNoInvertido[palabra]] = palabra\n",
    "    \n",
    "    return diccionarioInvertido"
   ]
  },
  {
   "cell_type": "code",
   "execution_count": 466,
   "metadata": {},
   "outputs": [
    {
     "name": "stdout",
     "output_type": "stream",
     "text": [
      "Error: multiple keys for one value\n"
     ]
    }
   ],
   "source": [
    "#reverse_dictionary = {'a': 1, 'b': 2, 'c': 3}\n",
    "reverse_dictionary = {'x': 'apple', 'y': 'banana', 'z': 'banana'}\n",
    "\n",
    "print(invertDiccionario(reverse_dictionary))"
   ]
  },
  {
   "cell_type": "markdown",
   "metadata": {},
   "source": [
    "# Nivell 2"
   ]
  },
  {
   "cell_type": "markdown",
   "metadata": {},
   "source": [
    "### Exercici 1\n",
    "Diccionari invers amb duplicats"
   ]
  },
  {
   "cell_type": "code",
   "execution_count": null,
   "metadata": {},
   "outputs": [],
   "source": [
    "#Se crea un diccionario nuevo, Se recorre el diccionarioNoInvertido y el valor de cada key se añade al nuevo diccionario, y el value se pone como key\n",
    "#Antes de añadir el valor se revisa que ya no esta, si esta se crea una lista en donde iran las keys\n",
    "def invertDiccionarioDuplicados(diccionarioAInvertirDuplicado):\n",
    "    diccionarioDuplicado = {}\n",
    "    \n",
    "    for palabra in diccionarioAInvertirDuplicado:\n",
    "        if diccionarioAInvertirDuplicado[palabra] in diccionarioDuplicado:\n",
    "            diccionarioDuplicado[diccionarioAInvertirDuplicado[palabra]] = [diccionarioDuplicado[diccionarioAInvertirDuplicado[palabra]],palabra]\n",
    "        else:\n",
    "            diccionarioDuplicado[diccionarioAInvertirDuplicado[palabra]] = palabra\n",
    "    \n",
    "    return diccionarioDuplicado\n"
   ]
  },
  {
   "cell_type": "code",
   "execution_count": 468,
   "metadata": {},
   "outputs": [
    {
     "name": "stdout",
     "output_type": "stream",
     "text": [
      "{'apple': 'x', 'banana': ['y', 'z'], 'manzana': 'b'}\n"
     ]
    }
   ],
   "source": [
    "#reverse_dictionary = {'a': 1, 'b': 2, 'c': 3}\n",
    "reverse_dictionary = {'x': 'apple', 'y': 'banana', 'z': 'banana','b':'manzana'}\n",
    "\n",
    "resultadoDiccDuplicado = invertDiccionarioDuplicados(reverse_dictionary)\n",
    "\n",
    "print(resultadoDiccDuplicado)"
   ]
  },
  {
   "cell_type": "markdown",
   "metadata": {},
   "source": [
    "### Exercici 2\n",
    "Conversió de tipus de dades"
   ]
  },
  {
   "cell_type": "code",
   "execution_count": 469,
   "metadata": {},
   "outputs": [],
   "source": [
    "# Se crean 2 listas, 1 para cada tipo.\n",
    "# Antes de convertir valores se revisa si el valor es un tuple o una lista\n",
    "# Se recorre los valores a converitir intentando transformarlos float, si es possible transformar se ponen en una lista sino en la otra\n",
    "def convesorDeDades(listaAConverit):\n",
    "    listflotants = []\n",
    "    listnoflotants = []\n",
    "\n",
    "    for valor in listaAConverit:\n",
    "        if type(valor) == list or type(valor) == tuple:\n",
    "            for subvalor in valor:\n",
    "                try:\n",
    "                    numFloat = float(subvalor)\n",
    "                    listflotants.append(numFloat)\n",
    "                except:\n",
    "                    listnoflotants.append(subvalor)\n",
    "        else:\n",
    "            try:\n",
    "                numFloat = float(valor)\n",
    "                listflotants.append(numFloat)\n",
    "            except:\n",
    "                listnoflotants.append(valor)  \n",
    "\n",
    "    resConvertido = (listflotants, listnoflotants)\n",
    "    return resConvertido"
   ]
  },
  {
   "cell_type": "code",
   "execution_count": 475,
   "metadata": {},
   "outputs": [
    {
     "name": "stdout",
     "output_type": "stream",
     "text": [
      "([1.3, 2.0, 1.0, 1.4, 1.0, 2.0, 3.0, 3.4], ['one', 'le10', 'seven', 'seven', 'not-a-number'])\n"
     ]
    }
   ],
   "source": [
    "conversio = ['1.3', 'one', 'le10' , 'seven', 'seven',('2',1,1.4, 'not-a-number'), [1,2,'3','3.4']]\n",
    "\n",
    "resultConvertido = convesorDeDades(conversio)\n",
    "\n",
    "print(resultConvertido)\n",
    "\n"
   ]
  },
  {
   "cell_type": "markdown",
   "metadata": {},
   "source": [
    "# Nivell 3"
   ]
  },
  {
   "cell_type": "markdown",
   "metadata": {},
   "source": [
    "### Exercici 1\n",
    "Comptador i endreçador de paraules d'un text."
   ]
  },
  {
   "cell_type": "markdown",
   "metadata": {},
   "source": [
    "El client va quedar content amb el comptador de paraules, però ara vol llegir arxius TXT i que calculi la freqüència de cada paraula ordenades dins de les entrades habituals del diccionari segons la lletra amb la qual comencen, és a dir, les claus han d'anar de la A a la Z i dins de la A hem d'anar de la A la Z. Per exemple, per a l'arxiu \"tu_me_quieres_blanca.txt\" la sortida esperada seria:"
   ]
  },
  {
   "cell_type": "code",
   "execution_count": null,
   "metadata": {},
   "outputs": [],
   "source": [
    "# Al pasar un texto se recorre cada frase para separarla en palabras, lugo se limpian todos los simbolos, y se añaden las palabras a una lista\n",
    "# La lista con palabras sin simbolos vuelve a revisar para pasar todas las palabras a minuscula y limpiar valores vacios\n",
    "def limpiadorDeTexto(textoSinLimpiar):\n",
    "    textoLimpioCaracteres = []\n",
    "    textlimpiofun = []\n",
    "\n",
    "    for frase in textoSinLimpiar:\n",
    "        palabraFrase = frase.split()\n",
    "        palabra = [re.sub('[^a-zA-Z0-9áéíóúÁÉÍÓÚñÑüÜ]', '', letras) for letras in palabraFrase]\n",
    "        textoLimpioCaracteres.extend(palabra)\n",
    "\n",
    "    for palabraVerif in textoLimpioCaracteres:\n",
    "        palabraVerifMin = palabraVerif.lower()\n",
    "        if palabraVerif != \"\":\n",
    "            textlimpiofun.append(palabraVerifMin)\n",
    "    \n",
    "    return(textlimpiofun)\n",
    "\n",
    "# Creo un diccionario nuevo, se recorre la lista de palabras y se guarda la letra por la que empieza la letra\n",
    "# En caso de que la letra no este en el nuevo diccionario se añade en formato diccionario, y se añade la palabra\n",
    "# En caso de que la letra esta en el nuevo diccionario se revisa si la palabra esta, en caso de que esta solo se suma 1 a la palabra,en otro caso se añade la palabra \n",
    "def comptadorParaulesperLLetra(llistaParaules):\n",
    "    diccionarioLetra = {}\n",
    "\n",
    "    for palabra in llistaParaules:\n",
    "        letra = palabra[0]\n",
    "    \n",
    "        if letra not in diccionarioLetra:\n",
    "            diccionarioLetra[letra] = {}\n",
    "\n",
    "        if palabra in diccionarioLetra[letra]:\n",
    "            diccionarioLetra[letra][palabra] += 1\n",
    "        else:\n",
    "            diccionarioLetra[letra][palabra] = 1\n",
    "\n",
    "    return diccionarioLetra"
   ]
  },
  {
   "cell_type": "code",
   "execution_count": 345,
   "metadata": {},
   "outputs": [
    {
     "name": "stdout",
     "output_type": "stream",
     "text": [
      "[('a', {'alba': 4, 'azucena': 1, 'a': 3, 'al': 2, 'alimenta': 1, 'amarga': 1, 'agua': 1, 'alma': 1, 'alcobas': 1}), ('b', {'blanca': 3, 'banquete': 1, 'baco': 1, 'bosques': 1, 'boca': 1, 'bebe': 1, 'buen': 1}), ('c', {'casta': 3, 'corola': 1, 'cerrada': 1, 'copas': 1, 'cubierto': 1, 'carnes': 2, 'corriste': 1, 'conservas': 1, 'cuáles': 1, 'cabañas': 1, 'con': 4, 'cuerpo': 1, 'cuando': 2}), ('d', {'de': 8, 'diga': 1, 'dejaste': 1, 'del': 1, 'dios': 2, 'duerme': 1}), ('e', {'espumas': 1, 'en': 4, 'el': 4, 'engaño': 1, 'estrago': 1, 'esqueleto': 1, 'escarcha': 1, 'ellas': 1, 'enredada': 1, 'entonces': 1}), ('f', {'filtrado': 1, 'frutos': 1, 'festejando': 1}), ('h', {'haya': 1, 'hermana': 1, 'hubiste': 1, 'huye': 1, 'hacia': 1, 'habla': 1, 'hayas': 1, 'hombre': 1}), ('i', {'intacto': 1}), ('j', {'jardines': 1}), ('l', {'luna': 1, 'las': 7, 'los': 4, 'labios': 1, 'lo': 2, 'la': 3, 'límpiate': 1, 'lévate': 1}), ('m', {'me': 10, 'margarita': 1, 'mi': 1, 'mano': 1, 'mieles': 1, 'morados': 1, 'milagros': 1, 'montaña': 1, 'manos': 1, 'mojada': 1}), ('n', {'nácar': 1, 'ni': 2, 'nívea': 2, 'negros': 1, 'no': 1}), ('p', {'perfume': 1, 'pámpanos': 1, 'por': 2, 'pretendes': 3, 'perdone': 2, 'pájaros': 1, 'puesto': 1, 'preténdeme': 3}), ('q', {'quieres': 6, 'que': 6, 'quedó': 1}), ('r', {'rayo': 1, 'rojo': 1, 'raíz': 1, 'rocas': 1, 'renueva': 1}), ('s', {'sea': 1, 'sobre': 2, 'se': 2, 'sé': 1, 'salitre': 1, 'sean': 1}), ('t', {'tú': 8, 'todas': 2, 'tenue': 1, 'todavía': 1, 'te': 3, 'toca': 1, 'tierra': 1, 'tejidos': 1, 'tornadas': 1}), ('u', {'un': 1, 'una': 1}), ('v', {'vestido': 1, 'vete': 1, 'vive': 1}), ('y', {'y': 5})]\n"
     ]
    }
   ],
   "source": [
    "archivo = open(\"tu_me_quieres_blanca.txt\", encoding=\"utf-8\")\n",
    "textolimpio = limpiadorDeTexto(archivo)\n",
    "paraulesComptades = comptadorParaulesperLLetra(textolimpio)\n",
    "\n",
    "diccionariOrdenat = sorted(paraulesComptades.items()) \n",
    "\n",
    "print(diccionariOrdenat)\n",
    "\n",
    "archivo.close()"
   ]
  }
 ],
 "metadata": {
  "kernelspec": {
   "display_name": "Python 3",
   "language": "python",
   "name": "python3"
  },
  "language_info": {
   "codemirror_mode": {
    "name": "ipython",
    "version": 3
   },
   "file_extension": ".py",
   "mimetype": "text/x-python",
   "name": "python",
   "nbconvert_exporter": "python",
   "pygments_lexer": "ipython3",
   "version": "3.9.6"
  }
 },
 "nbformat": 4,
 "nbformat_minor": 2
}

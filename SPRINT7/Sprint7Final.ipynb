{
 "cells": [
  {
   "cell_type": "markdown",
   "metadata": {},
   "source": [
    "# Nivell 1"
   ]
  },
  {
   "cell_type": "markdown",
   "metadata": {},
   "source": [
    "### Exercici 1\n",
    "Calculadora de l'índex de massa corporal"
   ]
  },
  {
   "cell_type": "code",
   "execution_count": 1,
   "metadata": {},
   "outputs": [],
   "source": [
    "#Para calcular el número de IMC que la fórmula es peso*altura al cuadrado.\n",
    "def calculadoraImc(pesodef, alturadef):\n",
    "    return round(pesodef / alturadef ** 2, 2)\n",
    "\n",
    "#Sabiendo el IMC con un if comparo y dependiendo del valor el return será el estado en el que esta.\n",
    "def imcDefinicion(imcdef):\n",
    "    if imcdef > 30:\n",
    "        return \"Obesidad\"\n",
    "    elif imcdef >= 25: \n",
    "        return \"Sobrepeso\"\n",
    "    elif imcdef >=18.5:\n",
    "        return \"Peso normal\"\n",
    "    else:\n",
    "        return \"Bajo Peso\""
   ]
  },
  {
   "cell_type": "code",
   "execution_count": 5,
   "metadata": {},
   "outputs": [
    {
     "name": "stdout",
     "output_type": "stream",
     "text": [
      "Error: Introduce solo números válidos (ej. 75.5 o 1.75).\n",
      "Error: Introduce solo números válidos (ej. 75.5 o 1.75).\n",
      "Error: Introduce solo números válidos (ej. 75.5 o 1.75).\n",
      "IMC -> 22.16, Peso normal\n"
     ]
    }
   ],
   "source": [
    "while True:\n",
    "    try:\n",
    "        peso = float(input(\"¿Qué peso tienes en KG (Ej. 80)? \"))\n",
    "        altura = float(input(\"¿Qué altura tienes en metros (Ej. 1.90)? \"))\n",
    "        break \n",
    "    except ValueError:\n",
    "        print(\"Error: Introduce solo números válidos (ej. 75.5 o 1.75).\")\n",
    "\n",
    "\n",
    "imcPersona = calculadoraImc(peso,altura)\n",
    "imcPersonaStatus = imcDefinicion(imcPersona)\n",
    "\n",
    "print(f\"IMC -> {imcPersona}, {imcPersonaStatus}\")"
   ]
  },
  {
   "cell_type": "markdown",
   "metadata": {},
   "source": [
    "### Exercici 2\n",
    "Convertidor de temperatures."
   ]
  },
  {
   "cell_type": "code",
   "execution_count": null,
   "metadata": {},
   "outputs": [],
   "source": [
    "#Dependidiendo de la unidad de temperatura que se ha escogido se devuelve el valor en Celsius\n",
    "def conversorTemperaturaCelsius(unidadTemperaturaCdef, temperaturaCel):\n",
    "    # Fahrenheit -> Celsius\n",
    "    if unidadTemperaturaCdef == 2:\n",
    "        return round((temperaturaCel - 32) * 5/9, 2)\n",
    "    # Kelvin -> Celsius\n",
    "    elif unidadTemperaturaCdef == 3:\n",
    "        return round(temperaturaCel - 273.15, 2) \n",
    "    else:\n",
    "        return \"Unidad de Temperatura no Valida\"\n",
    "\n",
    "#Dependidiendo de la unidad de temperatura que se ha escogido se devuelve el valor en Fahrenheit\n",
    "def conversorTemperaturaFahrenheit(unidadTemperaturaFdef, temperaturaFah):\n",
    "    # Celsius -> Fahrenheit\n",
    "    if unidadTemperaturaFdef == 1:\n",
    "        return round((temperaturaFah * 9/5) + 32, 2)\n",
    "    # Kelvin -> Fahrenheit \n",
    "    elif unidadTemperaturaFdef == 3:\n",
    "        return round((temperaturaFah - 273.15) * 9/5 + 32, 2)\n",
    "    else:\n",
    "        return \"Unidad de Temperatura no Valida\"\n",
    "\n",
    "   \n",
    "def mostrarConversion(unidadTemp, temperaturaUser):\n",
    "    diccTemperaturas = {1: \"Celsius(°C)\", 2: \"Fahrenheit(°F)\", 3: \"Kelvin(K)\"}\n",
    "\n",
    "    if unidadTemp == 1:  \n",
    "        fahrenheit = conversorTemperaturaFahrenheit(unidadTemp,temperaturaUser)\n",
    "        kelvin = round(temperaturaUser + 273.15, 2)\n",
    "\n",
    "        print(f\"Temperatura original: {temperaturaUser} {diccTemperaturas[unidadTemp]}\")\n",
    "        print(f\"En Fahrenheit: {fahrenheit} °F\")\n",
    "        print(f\"En Kelvin: {kelvin} K\")\n",
    "\n",
    "    elif unidadTemp == 2:  \n",
    "        celsius = conversorTemperaturaCelsius(unidadTemp,temperaturaUser)\n",
    "        kelvin = round(celsius + 273.15, 2)\n",
    "\n",
    "        print(f\"Temperatura original: {temperaturaUser} {diccTemperaturas[unidadTemp]}\")\n",
    "        print(f\"En Celsius: {celsius} °C\")\n",
    "        print(f\"En Kelvin: {kelvin} K\")\n",
    "\n",
    "    elif unidadTemp == 3:  \n",
    "        celsius = round(temperaturaUser - 273.15, 2)\n",
    "        fahrenheit = round((celsius * 9/5) + 32, 2)\n",
    "\n",
    "        print(f\"Temperatura original: {temperaturaUser} {diccTemperaturas[unidadTemp]}\")\n",
    "        print(f\"En Celsius: {celsius} °C\")\n",
    "        print(f\"En Fahrenheit: {fahrenheit} °F\")\n",
    "\n",
    "    else:\n",
    "        print(\"Unidad de temperatura no válida.\")"
   ]
  },
  {
   "cell_type": "code",
   "execution_count": null,
   "metadata": {},
   "outputs": [
    {
     "name": "stdout",
     "output_type": "stream",
     "text": [
      "Por favor, introduce un número válido: 1, 2 o 3.\n",
      "Por favor, introduce un número válido: 1, 2 o 3.\n",
      "Temperatura original: 9.0 Celsius(°C)\n",
      "En Fahrenheit: 48.2 °F\n",
      "En Kelvin: 282.15 K\n"
     ]
    }
   ],
   "source": [
    "listaTiposTemperatura = [\"1.°C\", \"2.°F\", \"3.K\"]\n",
    "while True:\n",
    "    entrada = input(f\"¿Qué unidad de temperatura vas a utilizar? Escoge el número {listaTiposTemperatura}: \")\n",
    "    if entrada.isdigit():\n",
    "        unidadTempUser = int(entrada)\n",
    "        if unidadTempUser in [1, 2, 3]:\n",
    "            break\n",
    "        else:\n",
    "            print(\"Introduce un número válido: 1, 2 o 3.\")\n",
    "    else:\n",
    "        print(\"Entrada no válida. Solo se aceptan los números 1, 2 o 3.\")\n",
    "numTemperatura = float(input(\"Que temperatura quieres Convertir(Ej. 9.8)\"))\n",
    "\n",
    "\n",
    "mostrarConversion(unidadTempUser,numTemperatura)"
   ]
  },
  {
   "cell_type": "markdown",
   "metadata": {},
   "source": [
    "### Exercici 3\n",
    "Comptador de paraules d'un text."
   ]
  },
  {
   "cell_type": "code",
   "execution_count": null,
   "metadata": {},
   "outputs": [],
   "source": [
    "import re\n",
    "#Se recorre la el texto y vamos compararando si la palabra ya esta en el diccionario, si esta se suma 1, si no esta se añade\n",
    "def comptadorParaules(llistaText):\n",
    "\n",
    "    diccContado = {}\n",
    "\n",
    "    for palabraTexto in llistaText:\n",
    "        if palabraTexto in diccContado:\n",
    "            diccContado[palabraTexto] += 1 \n",
    "        else:\n",
    "            diccContado[palabraTexto] = 1\n",
    "\n",
    "    return diccContado\n",
    "\n",
    "def limpiadorDeSimbolos(textoConSimbolos):\n",
    "    textoLimpioSimbolos = []\n",
    "    limpiofun = []\n",
    "\n",
    "    for frase in textoConSimbolos:\n",
    "        palabraFrase = frase.split()\n",
    "        palabra = [re.sub('[^a-zA-Z0-9áéíóúÁÉÍÓÚñÑüÜ]', '', letras) for letras in palabraFrase]\n",
    "        textoLimpioSimbolos.extend(palabra)\n",
    "\n",
    "    for palabraVerif in textoLimpioSimbolos:\n",
    "        palabraVerifMin = palabraVerif.lower()\n",
    "        if palabraVerifMin != \"\":\n",
    "            limpiofun.append(palabraVerifMin)\n",
    "    \n",
    "    return limpiofun\n"
   ]
  },
  {
   "cell_type": "code",
   "execution_count": null,
   "metadata": {},
   "outputs": [
    {
     "name": "stdout",
     "output_type": "stream",
     "text": [
      "{'hola': 3}\n"
     ]
    }
   ],
   "source": [
    "#textUser = input(\"Vamos a contar palabras, dame un texto\")\n",
    "textUser = \"Hola ,hola Hola?\"\n",
    "textoLimpioUser = limpiadorDeSimbolos([textUser])\n",
    "\n",
    "print(comptadorParaules(textoLimpioUser))\n"
   ]
  },
  {
   "cell_type": "markdown",
   "metadata": {},
   "source": [
    "### Exercici 4\n",
    "Diccionari invers."
   ]
  },
  {
   "cell_type": "code",
   "execution_count": 100,
   "metadata": {},
   "outputs": [],
   "source": [
    "#Se crea un diccionario nuevo, Se recorre el diccionarioNoInvertido y el valor de cada key se añade al nuevo diccionario, y el value se pone como key\n",
    "#Antes de añadir el valor se revisa que ya no esta, si esta da error \n",
    "def invertDiccionario(diccNoInvertido):\n",
    "    diccionarioInvertido = {}\n",
    "\n",
    "    for palabra in diccNoInvertido:\n",
    "        if diccNoInvertido[palabra] in diccionarioInvertido:\n",
    "            diccionarioInvertido = \"Error: multiple keys for one value\"\n",
    "            break\n",
    "        else:\n",
    "            diccionarioInvertido[diccNoInvertido[palabra]] = palabra\n",
    "    \n",
    "    return diccionarioInvertido"
   ]
  },
  {
   "cell_type": "code",
   "execution_count": 102,
   "metadata": {},
   "outputs": [
    {
     "name": "stdout",
     "output_type": "stream",
     "text": [
      "Error: multiple keys for one value\n"
     ]
    }
   ],
   "source": [
    "#reverse_dictionary = {'a': 1, 'b': 2, 'c': 3}\n",
    "reverse_dictionary = {'x': 'apple', 'y': 'banana', 'z': 'banana'}\n",
    "\n",
    "print(invertDiccionario(reverse_dictionary))"
   ]
  },
  {
   "cell_type": "markdown",
   "metadata": {},
   "source": [
    "# Nivell 2"
   ]
  },
  {
   "cell_type": "markdown",
   "metadata": {},
   "source": [
    "### Exercici 1\n",
    "Diccionari invers amb duplicats"
   ]
  },
  {
   "cell_type": "code",
   "execution_count": null,
   "metadata": {},
   "outputs": [],
   "source": [
    "#Se crea un diccionario nuevo, Se recorre el diccionarioNoInvertido y el valor de cada key se añade al nuevo diccionario, y el value se pone como key\n",
    "#Antes de añadir el valor se revisa que ya no esta, si esta se crea una lista en donde irán las keys\n",
    "def invertDiccionarioDuplicados(diccionarioAInvertirDuplicado):\n",
    "    diccionarioDuplicado = {}\n",
    "    \n",
    "    for key, valor in diccionarioAInvertirDuplicado.items():\n",
    "        if valor in diccionarioDuplicado:\n",
    "            diccionarioDuplicado[valor].append(key)\n",
    "        else:\n",
    "            diccionarioDuplicado[valor] = [key]\n",
    "    \n",
    "    return diccionarioDuplicado\n"
   ]
  },
  {
   "cell_type": "code",
   "execution_count": 23,
   "metadata": {},
   "outputs": [
    {
     "name": "stdout",
     "output_type": "stream",
     "text": [
      "{'apple': ['x'], 'banana': ['y', 'z', 'j'], 'manzana': ['b']}\n"
     ]
    }
   ],
   "source": [
    "#reverse_dictionary = {'a': 1, 'b': 2, 'c': 3}\n",
    "reverse_dictionary = {'x': 'apple', 'y': 'banana', 'z': 'banana','b':'manzana', 'j': 'banana'}\n",
    "\n",
    "resultadoDiccDuplicado = invertDiccionarioDuplicados(reverse_dictionary)\n",
    "\n",
    "print(resultadoDiccDuplicado)"
   ]
  },
  {
   "cell_type": "markdown",
   "metadata": {},
   "source": [
    "### Exercici 2\n",
    "Conversió de tipus de dades"
   ]
  },
  {
   "cell_type": "code",
   "execution_count": 25,
   "metadata": {},
   "outputs": [],
   "source": [
    "# Se crean 2 listas, 1 para cada tipo.\n",
    "# Antes de convertir valores se revisa si el valor es un tuple o una lista\n",
    "# Se recorre los valores a convertir intentando transformarlos float, si es posible transformar se ponen en una lista si no en la otra\n",
    "def convesorDeDades(listaAConverit):\n",
    "    listflotants = []\n",
    "    listnoflotants = []\n",
    "\n",
    "    for valor in listaAConverit:\n",
    "        if type(valor) == list or type(valor) == tuple:\n",
    "            for subvalor in valor:\n",
    "                try:\n",
    "                    numFloat = float(subvalor)\n",
    "                    listflotants.append(numFloat)\n",
    "                except:\n",
    "                    listnoflotants.append(subvalor)\n",
    "        else:\n",
    "            try:\n",
    "                numFloat = float(valor)\n",
    "                listflotants.append(numFloat)\n",
    "            except:\n",
    "                listnoflotants.append(valor)  \n",
    "\n",
    "    resConvertido = (listflotants, listnoflotants)\n",
    "    return resConvertido"
   ]
  },
  {
   "cell_type": "code",
   "execution_count": 26,
   "metadata": {},
   "outputs": [
    {
     "name": "stdout",
     "output_type": "stream",
     "text": [
      "([1.3, 2.0, 1.0, 1.4, 1.0, 2.0, 3.0, 3.4], ['one', 'le10', 'seven', 'seven', 'not-a-number'])\n"
     ]
    }
   ],
   "source": [
    "conversio = ['1.3', 'one', 'le10' , 'seven', 'seven',('2',1,1.4, 'not-a-number'), [1,2,'3','3.4']]\n",
    "\n",
    "resultConvertido = convesorDeDades(conversio)\n",
    "\n",
    "print(resultConvertido)\n",
    "\n"
   ]
  },
  {
   "cell_type": "markdown",
   "metadata": {},
   "source": [
    "# Nivell 3"
   ]
  },
  {
   "cell_type": "markdown",
   "metadata": {},
   "source": [
    "### Exercici 1\n",
    "Comptador i endreçador de paraules d'un text."
   ]
  },
  {
   "cell_type": "markdown",
   "metadata": {},
   "source": [
    "El client va quedar content amb el comptador de paraules, però ara vol llegir arxius TXT i que calculi la freqüència de cada paraula ordenades dins de les entrades habituals del diccionari segons la lletra amb la qual comencen, és a dir, les claus han d'anar de la A a la Z i dins de la A hem d'anar de la A la Z. Per exemple, per a l'arxiu \"tu_me_quieres_blanca.txt\" la sortida esperada seria:"
   ]
  },
  {
   "cell_type": "code",
   "execution_count": null,
   "metadata": {},
   "outputs": [],
   "source": [
    "import re\n",
    "# Al pasar un texto se recorre cada frase para separarla en palabras, luego se limpian todos los símbolos, y se añaden las palabras a una lista\n",
    "# La lista con palabras sin símbolos vuelve a revisar para pasar todas las palabras a minúscula y limpiar valores vacíos\n",
    "\n",
    "def limpiadorDeTexto(textoSinLimpiar):\n",
    "    textoLimpioCaracteres = []\n",
    "    textlimpiofun = []\n",
    "\n",
    "    for frase in textoSinLimpiar:\n",
    "        palabraFrase = frase.split()\n",
    "        palabra = [re.sub('[^a-zA-Z0-9áéíóúÁÉÍÓÚñÑüÜ]', '', letras) for letras in palabraFrase]\n",
    "        textoLimpioCaracteres.extend(palabra)\n",
    "\n",
    "    for palabraVerif in textoLimpioCaracteres:\n",
    "        palabraVerifMin = palabraVerif.lower()\n",
    "        if palabraVerif != \"\":\n",
    "            textlimpiofun.append(palabraVerifMin)\n",
    "    \n",
    "    return(textlimpiofun)\n",
    "\n",
    "# Creo un diccionario nuevo, se recorre la lista de palabras y se guarda la letra por la que empieza la letra\n",
    "# En caso de que la letra no este en el nuevo diccionario se añade en formato diccionario, y se añade la palabra\n",
    "# En caso de que la letra está en el nuevo diccionario se revisa si la palabra esta, en caso de que esta solo se suma 1 a la palabra, en otro caso se añade la palabra\n",
    "def comptadorParaulesperLLetra(llistaParaules):\n",
    "    diccionarioLetra = {}\n",
    "\n",
    "    for palabra in llistaParaules:\n",
    "        letra = palabra[0]\n",
    "    \n",
    "        if letra not in diccionarioLetra:\n",
    "            diccionarioLetra[letra] = {}\n",
    "\n",
    "        if palabra in diccionarioLetra[letra]:\n",
    "            diccionarioLetra[letra][palabra] += 1\n",
    "        else:\n",
    "            diccionarioLetra[letra][palabra] = 1\n",
    "\n",
    "    return diccionarioLetra\n"
   ]
  },
  {
   "cell_type": "code",
   "execution_count": 36,
   "metadata": {},
   "outputs": [
    {
     "name": "stdout",
     "output_type": "stream",
     "text": [
      "[('a', {'a': 3, 'agua': 1, 'al': 2, 'alba': 4, 'alcobas': 1, 'alimenta': 1, 'alma': 1, 'amarga': 1, 'azucena': 1}), ('b', {'baco': 1, 'banquete': 1, 'bebe': 1, 'blanca': 3, 'boca': 1, 'bosques': 1, 'buen': 1}), ('c', {'cabañas': 1, 'carnes': 2, 'casta': 3, 'cerrada': 1, 'con': 4, 'conservas': 1, 'copas': 1, 'corola': 1, 'corriste': 1, 'cuando': 2, 'cubierto': 1, 'cuerpo': 1, 'cuáles': 1}), ('d', {'de': 8, 'dejaste': 1, 'del': 1, 'diga': 1, 'dios': 2, 'duerme': 1}), ('e', {'el': 4, 'ellas': 1, 'en': 4, 'engaño': 1, 'enredada': 1, 'entonces': 1, 'escarcha': 1, 'espumas': 1, 'esqueleto': 1, 'estrago': 1}), ('f', {'festejando': 1, 'filtrado': 1, 'frutos': 1}), ('h', {'habla': 1, 'hacia': 1, 'haya': 1, 'hayas': 1, 'hermana': 1, 'hombre': 1, 'hubiste': 1, 'huye': 1}), ('i', {'intacto': 1}), ('j', {'jardines': 1}), ('l', {'la': 3, 'labios': 1, 'las': 7, 'lo': 2, 'los': 4, 'luna': 1, 'lévate': 1, 'límpiate': 1}), ('m', {'mano': 1, 'manos': 1, 'margarita': 1, 'me': 10, 'mi': 1, 'mieles': 1, 'milagros': 1, 'mojada': 1, 'montaña': 1, 'morados': 1}), ('n', {'negros': 1, 'ni': 2, 'no': 1, 'nácar': 1, 'nívea': 2}), ('p', {'perdone': 2, 'perfume': 1, 'por': 2, 'pretendes': 3, 'preténdeme': 3, 'puesto': 1, 'pájaros': 1, 'pámpanos': 1}), ('q', {'que': 6, 'quedó': 1, 'quieres': 6}), ('r', {'rayo': 1, 'raíz': 1, 'renueva': 1, 'rocas': 1, 'rojo': 1}), ('s', {'salitre': 1, 'se': 2, 'sea': 1, 'sean': 1, 'sobre': 2, 'sé': 1}), ('t', {'te': 3, 'tejidos': 1, 'tenue': 1, 'tierra': 1, 'toca': 1, 'todas': 2, 'todavía': 1, 'tornadas': 1, 'tú': 8}), ('u', {'un': 1, 'una': 1}), ('v', {'vestido': 1, 'vete': 1, 'vive': 1}), ('y', {'y': 5})]\n"
     ]
    }
   ],
   "source": [
    "archivo = open(\"tu_me_quieres_blanca.txt\", encoding=\"utf-8\")\n",
    "textolimpio = limpiadorDeTexto(archivo)\n",
    "paraulesComptades = comptadorParaulesperLLetra(textolimpio)\n",
    "\n",
    "diccionariOrdenat = sorted(\n",
    "    [\n",
    "        (letra, dict(sorted(diccionario.items())))\n",
    "        for letra, diccionario in paraulesComptades.items()\n",
    "    ]\n",
    ")\n",
    "\n",
    "\n",
    "print(diccionariOrdenat)\n",
    "\n",
    "archivo.close()"
   ]
  }
 ],
 "metadata": {
  "kernelspec": {
   "display_name": "Python 3",
   "language": "python",
   "name": "python3"
  },
  "language_info": {
   "codemirror_mode": {
    "name": "ipython",
    "version": 3
   },
   "file_extension": ".py",
   "mimetype": "text/x-python",
   "name": "python",
   "nbconvert_exporter": "python",
   "pygments_lexer": "ipython3",
   "version": "3.9.6"
  }
 },
 "nbformat": 4,
 "nbformat_minor": 2
}
